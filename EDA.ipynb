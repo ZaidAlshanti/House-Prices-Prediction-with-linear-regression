{
 "cells": [
  {
   "cell_type": "markdown",
   "source": [
    "# Exploring the data"
   ],
   "metadata": {
    "collapsed": false
   },
   "id": "a8f95b914ed3ea3f"
  },
  {
   "cell_type": "markdown",
   "source": [
    "## Importing the libraries"
   ],
   "metadata": {
    "collapsed": false
   },
   "id": "ace64bd8f7faae54"
  },
  {
   "cell_type": "code",
   "execution_count": 125,
   "id": "initial_id",
   "metadata": {
    "collapsed": true,
    "ExecuteTime": {
     "end_time": "2025-07-26T17:58:39.645179600Z",
     "start_time": "2025-07-26T17:58:39.468715200Z"
    }
   },
   "outputs": [],
   "source": [
    "import pandas as pd\n",
    "from sklearn import linear_model\n",
    "import sklearn\n",
    "from sklearn.preprocessing import LabelEncoder\n",
    "import matplotlib.pyplot as plt\n",
    "import seaborn as sns\n",
    "import numpy as np\n",
    "import scipy.stats\n",
    "from scipy.stats import chisquare"
   ]
  },
  {
   "cell_type": "markdown",
   "source": [
    "## Loading the data"
   ],
   "metadata": {
    "collapsed": false
   },
   "id": "645929faa3f8f7fa"
  },
  {
   "cell_type": "code",
   "outputs": [
    {
     "data": {
      "text/plain": "Index(['MSSubClass', 'LotFrontage', 'LotArea', 'LotShape', 'Neighborhood',\n       'HouseStyle', 'OverallQual', 'OverallCond', 'YearBuilt', 'YearRemodAdd',\n       'Exterior1st', 'Exterior2nd', 'MasVnrType', 'ExterQual', 'Foundation',\n       'BsmtQual', 'BsmtFinType1', 'BsmtUnfSF', 'TotalBsmtSF', 'HeatingQC',\n       '1stFlrSF', '2ndFlrSF', 'GrLivArea', 'BsmtFullBath', 'FullBath',\n       'HalfBath', 'BedroomAbvGr', 'KitchenQual', 'TotRmsAbvGrd', 'Fireplaces',\n       'FireplaceQu', 'GarageType', 'GarageYrBlt', 'GarageFinish',\n       'GarageCars', 'GarageArea', 'WoodDeckSF', 'OpenPorchSF', 'MoSold',\n       'YrSold', 'SalePrice'],\n      dtype='object')"
     },
     "execution_count": 126,
     "metadata": {},
     "output_type": "execute_result"
    }
   ],
   "source": [
    "df = pd.read_csv('train - Copy.csv')\n",
    "df.columns"
   ],
   "metadata": {
    "collapsed": false,
    "ExecuteTime": {
     "end_time": "2025-07-26T17:58:39.752750900Z",
     "start_time": "2025-07-26T17:58:39.652077800Z"
    }
   },
   "id": "bff1739134718277",
   "execution_count": 126
  },
  {
   "cell_type": "markdown",
   "source": [
    "## Feature Engineering"
   ],
   "metadata": {
    "collapsed": false
   },
   "id": "872eb78591ed78d8"
  },
  {
   "cell_type": "markdown",
   "source": [
    "### Split the numeric data and test correlation"
   ],
   "metadata": {
    "collapsed": false
   },
   "id": "77d1c59022e2dfff"
  },
  {
   "cell_type": "code",
   "outputs": [],
   "source": [
    "df_num = df.select_dtypes(include = ['float64', 'int64'])"
   ],
   "metadata": {
    "collapsed": false,
    "ExecuteTime": {
     "end_time": "2025-07-26T17:58:39.755936Z",
     "start_time": "2025-07-26T17:58:39.684934400Z"
    }
   },
   "id": "e486a4f2dc36ff9b",
   "execution_count": 127
  },
  {
   "cell_type": "code",
   "outputs": [
    {
     "data": {
      "text/plain": "              MSSubClass  LotFrontage   LotArea  OverallQual  OverallCond  \\\nMSSubClass      1.000000    -0.386347 -0.139781     0.032628    -0.059316   \nLotFrontage    -0.386347     1.000000  0.426095     0.251646    -0.059213   \nLotArea        -0.139781     0.426095  1.000000     0.105806    -0.005636   \nOverallQual     0.032628     0.251646  0.105806     1.000000    -0.091932   \nOverallCond    -0.059316    -0.059213 -0.005636    -0.091932     1.000000   \nYearBuilt       0.027850     0.123349  0.014228     0.572323    -0.375983   \nYearRemodAdd    0.040581     0.088866  0.013788     0.550684     0.073741   \nBsmtUnfSF      -0.140759     0.132644 -0.002618     0.308159    -0.136841   \nTotalBsmtSF    -0.238518     0.392075  0.260833     0.537808    -0.171098   \n1stFlrSF       -0.251758     0.457181  0.299475     0.476224    -0.144203   \n2ndFlrSF        0.307886     0.080177  0.050986     0.295493     0.028942   \nGrLivArea       0.074853     0.402797  0.263116     0.593007    -0.079686   \nBsmtFullBath    0.003491     0.100949  0.158155     0.111098    -0.054942   \nFullBath        0.131608     0.198769  0.126031     0.550600    -0.194149   \nHalfBath        0.177354     0.053532  0.014259     0.273458    -0.060769   \nBedroomAbvGr   -0.023438     0.263170  0.119690     0.101676     0.012980   \nTotRmsAbvGrd    0.040380     0.352096  0.190015     0.427452    -0.057583   \nFireplaces     -0.045569     0.266639  0.271364     0.396765    -0.023820   \nGarageYrBlt     0.085072     0.070250 -0.024947     0.547766    -0.324297   \nGarageCars     -0.040110     0.285691  0.154871     0.600671    -0.185758   \nGarageArea     -0.098672     0.344997  0.180403     0.562022    -0.151521   \nWoodDeckSF     -0.012579     0.088521  0.171698     0.238923    -0.003334   \nOpenPorchSF    -0.006100     0.151972  0.084774     0.308819    -0.032589   \nMoSold         -0.013585     0.011200  0.001205     0.070815    -0.003511   \nYrSold         -0.021407     0.007450 -0.014261    -0.027347     0.043950   \nSalePrice      -0.084284     0.351799  0.263843     0.790982    -0.077856   \n\n              YearBuilt  YearRemodAdd  BsmtUnfSF  TotalBsmtSF  1stFlrSF  ...  \\\nMSSubClass     0.027850      0.040581  -0.140759    -0.238518 -0.251758  ...   \nLotFrontage    0.123349      0.088866   0.132644     0.392075  0.457181  ...   \nLotArea        0.014228      0.013788  -0.002618     0.260833  0.299475  ...   \nOverallQual    0.572323      0.550684   0.308159     0.537808  0.476224  ...   \nOverallCond   -0.375983      0.073741  -0.136841    -0.171098 -0.144203  ...   \nYearBuilt      1.000000      0.592855   0.149040     0.391452  0.281986  ...   \nYearRemodAdd   0.592855      1.000000   0.181133     0.291066  0.240379  ...   \nBsmtUnfSF      0.149040      0.181133   1.000000     0.415360  0.317987  ...   \nTotalBsmtSF    0.391452      0.291066   0.415360     1.000000  0.819530  ...   \n1stFlrSF       0.281986      0.240379   0.317987     0.819530  1.000000  ...   \n2ndFlrSF       0.010308      0.140024   0.004469    -0.174512 -0.202646  ...   \nGrLivArea      0.199010      0.287389   0.240257     0.454868  0.566024  ...   \nBsmtFullBath   0.187599      0.119470  -0.422900     0.307351  0.244671  ...   \nFullBath       0.468271      0.439046   0.288886     0.323722  0.380637  ...   \nHalfBath       0.242656      0.183331  -0.041118    -0.048804 -0.119916  ...   \nBedroomAbvGr  -0.070651     -0.040581   0.166643     0.050450  0.127401  ...   \nTotRmsAbvGrd   0.095589      0.191740   0.250647     0.285573  0.409516  ...   \nFireplaces     0.147716      0.112581   0.051575     0.339519  0.410531  ...   \nGarageYrBlt    0.825667      0.642277   0.190708     0.322445  0.233449  ...   \nGarageCars     0.537850      0.420622   0.214175     0.434585  0.439317  ...   \nGarageArea     0.478954      0.371600   0.183303     0.486665  0.489782  ...   \nWoodDeckSF     0.224880      0.205726  -0.005316     0.232019  0.235459  ...   \nOpenPorchSF    0.188686      0.226298   0.129005     0.247264  0.211671  ...   \nMoSold         0.012398      0.021490   0.034888     0.013196  0.031372  ...   \nYrSold        -0.013618      0.035743  -0.041258    -0.014969 -0.013604  ...   \nSalePrice      0.522897      0.507101   0.214479     0.613581  0.605852  ...   \n\n              TotRmsAbvGrd  Fireplaces  GarageYrBlt  GarageCars  GarageArea  \\\nMSSubClass        0.040380   -0.045569     0.085072   -0.040110   -0.098672   \nLotFrontage       0.352096    0.266639     0.070250    0.285691    0.344997   \nLotArea           0.190015    0.271364    -0.024947    0.154871    0.180403   \nOverallQual       0.427452    0.396765     0.547766    0.600671    0.562022   \nOverallCond      -0.057583   -0.023820    -0.324297   -0.185758   -0.151521   \nYearBuilt         0.095589    0.147716     0.825667    0.537850    0.478954   \nYearRemodAdd      0.191740    0.112581     0.642277    0.420622    0.371600   \nBsmtUnfSF         0.250647    0.051575     0.190708    0.214175    0.183303   \nTotalBsmtSF       0.285573    0.339519     0.322445    0.434585    0.486665   \n1stFlrSF          0.409516    0.410531     0.233449    0.439317    0.489782   \n2ndFlrSF          0.616423    0.194561     0.070832    0.183926    0.138347   \nGrLivArea         0.825489    0.461679     0.231197    0.467247    0.468997   \nBsmtFullBath     -0.053275    0.137928     0.124553    0.131881    0.179189   \nFullBath          0.554784    0.243671     0.484557    0.469672    0.405656   \nHalfBath          0.343415    0.203649     0.196785    0.219178    0.163549   \nBedroomAbvGr      0.676620    0.107570    -0.064518    0.086106    0.065253   \nTotRmsAbvGrd      1.000000    0.326114     0.148112    0.362289    0.337822   \nFireplaces        0.326114    1.000000     0.046822    0.300789    0.269141   \nGarageYrBlt       0.148112    0.046822     1.000000    0.588920    0.564567   \nGarageCars        0.362289    0.300789     0.588920    1.000000    0.882475   \nGarageArea        0.337822    0.269141     0.564567    0.882475    1.000000   \nWoodDeckSF        0.165984    0.200019     0.224577    0.226342    0.224666   \nOpenPorchSF       0.234192    0.169405     0.228425    0.213569    0.241435   \nMoSold            0.036907    0.046357     0.005337    0.040522    0.027974   \nYrSold           -0.034516   -0.024096    -0.001014   -0.039117   -0.027378   \nSalePrice         0.533723    0.466929     0.486362    0.640409    0.623431   \n\n              WoodDeckSF  OpenPorchSF    MoSold    YrSold  SalePrice  \nMSSubClass     -0.012579    -0.006100 -0.013585 -0.021407  -0.084284  \nLotFrontage     0.088521     0.151972  0.011200  0.007450   0.351799  \nLotArea         0.171698     0.084774  0.001205 -0.014261   0.263843  \nOverallQual     0.238923     0.308819  0.070815 -0.027347   0.790982  \nOverallCond    -0.003334    -0.032589 -0.003511  0.043950  -0.077856  \nYearBuilt       0.224880     0.188686  0.012398 -0.013618   0.522897  \nYearRemodAdd    0.205726     0.226298  0.021490  0.035743   0.507101  \nBsmtUnfSF      -0.005316     0.129005  0.034888 -0.041258   0.214479  \nTotalBsmtSF     0.232019     0.247264  0.013196 -0.014969   0.613581  \n1stFlrSF        0.235459     0.211671  0.031372 -0.013604   0.605852  \n2ndFlrSF        0.092165     0.208026  0.035164 -0.028700   0.319334  \nGrLivArea       0.247433     0.330224  0.050240 -0.036526   0.708624  \nBsmtFullBath    0.175315     0.067341 -0.025361  0.067049   0.227122  \nFullBath        0.187703     0.259977  0.055872 -0.019669   0.560664  \nHalfBath        0.108080     0.199740 -0.009050 -0.010269   0.284108  \nBedroomAbvGr    0.046854     0.093810  0.046544 -0.036014   0.168213  \nTotRmsAbvGrd    0.165984     0.234192  0.036907 -0.034516   0.533723  \nFireplaces      0.200019     0.169405  0.046357 -0.024096   0.466929  \nGarageYrBlt     0.224577     0.228425  0.005337 -0.001014   0.486362  \nGarageCars      0.226342     0.213569  0.040522 -0.039117   0.640409  \nGarageArea      0.224666     0.241435  0.027974 -0.027378   0.623431  \nWoodDeckSF      1.000000     0.058661  0.021011  0.022270   0.324413  \nOpenPorchSF     0.058661     1.000000  0.071255 -0.057619   0.315856  \nMoSold          0.021011     0.071255  1.000000 -0.145721   0.046432  \nYrSold          0.022270    -0.057619 -0.145721  1.000000  -0.028923  \nSalePrice       0.324413     0.315856  0.046432 -0.028923   1.000000  \n\n[26 rows x 26 columns]",
      "text/html": "<div>\n<style scoped>\n    .dataframe tbody tr th:only-of-type {\n        vertical-align: middle;\n    }\n\n    .dataframe tbody tr th {\n        vertical-align: top;\n    }\n\n    .dataframe thead th {\n        text-align: right;\n    }\n</style>\n<table border=\"1\" class=\"dataframe\">\n  <thead>\n    <tr style=\"text-align: right;\">\n      <th></th>\n      <th>MSSubClass</th>\n      <th>LotFrontage</th>\n      <th>LotArea</th>\n      <th>OverallQual</th>\n      <th>OverallCond</th>\n      <th>YearBuilt</th>\n      <th>YearRemodAdd</th>\n      <th>BsmtUnfSF</th>\n      <th>TotalBsmtSF</th>\n      <th>1stFlrSF</th>\n      <th>...</th>\n      <th>TotRmsAbvGrd</th>\n      <th>Fireplaces</th>\n      <th>GarageYrBlt</th>\n      <th>GarageCars</th>\n      <th>GarageArea</th>\n      <th>WoodDeckSF</th>\n      <th>OpenPorchSF</th>\n      <th>MoSold</th>\n      <th>YrSold</th>\n      <th>SalePrice</th>\n    </tr>\n  </thead>\n  <tbody>\n    <tr>\n      <th>MSSubClass</th>\n      <td>1.000000</td>\n      <td>-0.386347</td>\n      <td>-0.139781</td>\n      <td>0.032628</td>\n      <td>-0.059316</td>\n      <td>0.027850</td>\n      <td>0.040581</td>\n      <td>-0.140759</td>\n      <td>-0.238518</td>\n      <td>-0.251758</td>\n      <td>...</td>\n      <td>0.040380</td>\n      <td>-0.045569</td>\n      <td>0.085072</td>\n      <td>-0.040110</td>\n      <td>-0.098672</td>\n      <td>-0.012579</td>\n      <td>-0.006100</td>\n      <td>-0.013585</td>\n      <td>-0.021407</td>\n      <td>-0.084284</td>\n    </tr>\n    <tr>\n      <th>LotFrontage</th>\n      <td>-0.386347</td>\n      <td>1.000000</td>\n      <td>0.426095</td>\n      <td>0.251646</td>\n      <td>-0.059213</td>\n      <td>0.123349</td>\n      <td>0.088866</td>\n      <td>0.132644</td>\n      <td>0.392075</td>\n      <td>0.457181</td>\n      <td>...</td>\n      <td>0.352096</td>\n      <td>0.266639</td>\n      <td>0.070250</td>\n      <td>0.285691</td>\n      <td>0.344997</td>\n      <td>0.088521</td>\n      <td>0.151972</td>\n      <td>0.011200</td>\n      <td>0.007450</td>\n      <td>0.351799</td>\n    </tr>\n    <tr>\n      <th>LotArea</th>\n      <td>-0.139781</td>\n      <td>0.426095</td>\n      <td>1.000000</td>\n      <td>0.105806</td>\n      <td>-0.005636</td>\n      <td>0.014228</td>\n      <td>0.013788</td>\n      <td>-0.002618</td>\n      <td>0.260833</td>\n      <td>0.299475</td>\n      <td>...</td>\n      <td>0.190015</td>\n      <td>0.271364</td>\n      <td>-0.024947</td>\n      <td>0.154871</td>\n      <td>0.180403</td>\n      <td>0.171698</td>\n      <td>0.084774</td>\n      <td>0.001205</td>\n      <td>-0.014261</td>\n      <td>0.263843</td>\n    </tr>\n    <tr>\n      <th>OverallQual</th>\n      <td>0.032628</td>\n      <td>0.251646</td>\n      <td>0.105806</td>\n      <td>1.000000</td>\n      <td>-0.091932</td>\n      <td>0.572323</td>\n      <td>0.550684</td>\n      <td>0.308159</td>\n      <td>0.537808</td>\n      <td>0.476224</td>\n      <td>...</td>\n      <td>0.427452</td>\n      <td>0.396765</td>\n      <td>0.547766</td>\n      <td>0.600671</td>\n      <td>0.562022</td>\n      <td>0.238923</td>\n      <td>0.308819</td>\n      <td>0.070815</td>\n      <td>-0.027347</td>\n      <td>0.790982</td>\n    </tr>\n    <tr>\n      <th>OverallCond</th>\n      <td>-0.059316</td>\n      <td>-0.059213</td>\n      <td>-0.005636</td>\n      <td>-0.091932</td>\n      <td>1.000000</td>\n      <td>-0.375983</td>\n      <td>0.073741</td>\n      <td>-0.136841</td>\n      <td>-0.171098</td>\n      <td>-0.144203</td>\n      <td>...</td>\n      <td>-0.057583</td>\n      <td>-0.023820</td>\n      <td>-0.324297</td>\n      <td>-0.185758</td>\n      <td>-0.151521</td>\n      <td>-0.003334</td>\n      <td>-0.032589</td>\n      <td>-0.003511</td>\n      <td>0.043950</td>\n      <td>-0.077856</td>\n    </tr>\n    <tr>\n      <th>YearBuilt</th>\n      <td>0.027850</td>\n      <td>0.123349</td>\n      <td>0.014228</td>\n      <td>0.572323</td>\n      <td>-0.375983</td>\n      <td>1.000000</td>\n      <td>0.592855</td>\n      <td>0.149040</td>\n      <td>0.391452</td>\n      <td>0.281986</td>\n      <td>...</td>\n      <td>0.095589</td>\n      <td>0.147716</td>\n      <td>0.825667</td>\n      <td>0.537850</td>\n      <td>0.478954</td>\n      <td>0.224880</td>\n      <td>0.188686</td>\n      <td>0.012398</td>\n      <td>-0.013618</td>\n      <td>0.522897</td>\n    </tr>\n    <tr>\n      <th>YearRemodAdd</th>\n      <td>0.040581</td>\n      <td>0.088866</td>\n      <td>0.013788</td>\n      <td>0.550684</td>\n      <td>0.073741</td>\n      <td>0.592855</td>\n      <td>1.000000</td>\n      <td>0.181133</td>\n      <td>0.291066</td>\n      <td>0.240379</td>\n      <td>...</td>\n      <td>0.191740</td>\n      <td>0.112581</td>\n      <td>0.642277</td>\n      <td>0.420622</td>\n      <td>0.371600</td>\n      <td>0.205726</td>\n      <td>0.226298</td>\n      <td>0.021490</td>\n      <td>0.035743</td>\n      <td>0.507101</td>\n    </tr>\n    <tr>\n      <th>BsmtUnfSF</th>\n      <td>-0.140759</td>\n      <td>0.132644</td>\n      <td>-0.002618</td>\n      <td>0.308159</td>\n      <td>-0.136841</td>\n      <td>0.149040</td>\n      <td>0.181133</td>\n      <td>1.000000</td>\n      <td>0.415360</td>\n      <td>0.317987</td>\n      <td>...</td>\n      <td>0.250647</td>\n      <td>0.051575</td>\n      <td>0.190708</td>\n      <td>0.214175</td>\n      <td>0.183303</td>\n      <td>-0.005316</td>\n      <td>0.129005</td>\n      <td>0.034888</td>\n      <td>-0.041258</td>\n      <td>0.214479</td>\n    </tr>\n    <tr>\n      <th>TotalBsmtSF</th>\n      <td>-0.238518</td>\n      <td>0.392075</td>\n      <td>0.260833</td>\n      <td>0.537808</td>\n      <td>-0.171098</td>\n      <td>0.391452</td>\n      <td>0.291066</td>\n      <td>0.415360</td>\n      <td>1.000000</td>\n      <td>0.819530</td>\n      <td>...</td>\n      <td>0.285573</td>\n      <td>0.339519</td>\n      <td>0.322445</td>\n      <td>0.434585</td>\n      <td>0.486665</td>\n      <td>0.232019</td>\n      <td>0.247264</td>\n      <td>0.013196</td>\n      <td>-0.014969</td>\n      <td>0.613581</td>\n    </tr>\n    <tr>\n      <th>1stFlrSF</th>\n      <td>-0.251758</td>\n      <td>0.457181</td>\n      <td>0.299475</td>\n      <td>0.476224</td>\n      <td>-0.144203</td>\n      <td>0.281986</td>\n      <td>0.240379</td>\n      <td>0.317987</td>\n      <td>0.819530</td>\n      <td>1.000000</td>\n      <td>...</td>\n      <td>0.409516</td>\n      <td>0.410531</td>\n      <td>0.233449</td>\n      <td>0.439317</td>\n      <td>0.489782</td>\n      <td>0.235459</td>\n      <td>0.211671</td>\n      <td>0.031372</td>\n      <td>-0.013604</td>\n      <td>0.605852</td>\n    </tr>\n    <tr>\n      <th>2ndFlrSF</th>\n      <td>0.307886</td>\n      <td>0.080177</td>\n      <td>0.050986</td>\n      <td>0.295493</td>\n      <td>0.028942</td>\n      <td>0.010308</td>\n      <td>0.140024</td>\n      <td>0.004469</td>\n      <td>-0.174512</td>\n      <td>-0.202646</td>\n      <td>...</td>\n      <td>0.616423</td>\n      <td>0.194561</td>\n      <td>0.070832</td>\n      <td>0.183926</td>\n      <td>0.138347</td>\n      <td>0.092165</td>\n      <td>0.208026</td>\n      <td>0.035164</td>\n      <td>-0.028700</td>\n      <td>0.319334</td>\n    </tr>\n    <tr>\n      <th>GrLivArea</th>\n      <td>0.074853</td>\n      <td>0.402797</td>\n      <td>0.263116</td>\n      <td>0.593007</td>\n      <td>-0.079686</td>\n      <td>0.199010</td>\n      <td>0.287389</td>\n      <td>0.240257</td>\n      <td>0.454868</td>\n      <td>0.566024</td>\n      <td>...</td>\n      <td>0.825489</td>\n      <td>0.461679</td>\n      <td>0.231197</td>\n      <td>0.467247</td>\n      <td>0.468997</td>\n      <td>0.247433</td>\n      <td>0.330224</td>\n      <td>0.050240</td>\n      <td>-0.036526</td>\n      <td>0.708624</td>\n    </tr>\n    <tr>\n      <th>BsmtFullBath</th>\n      <td>0.003491</td>\n      <td>0.100949</td>\n      <td>0.158155</td>\n      <td>0.111098</td>\n      <td>-0.054942</td>\n      <td>0.187599</td>\n      <td>0.119470</td>\n      <td>-0.422900</td>\n      <td>0.307351</td>\n      <td>0.244671</td>\n      <td>...</td>\n      <td>-0.053275</td>\n      <td>0.137928</td>\n      <td>0.124553</td>\n      <td>0.131881</td>\n      <td>0.179189</td>\n      <td>0.175315</td>\n      <td>0.067341</td>\n      <td>-0.025361</td>\n      <td>0.067049</td>\n      <td>0.227122</td>\n    </tr>\n    <tr>\n      <th>FullBath</th>\n      <td>0.131608</td>\n      <td>0.198769</td>\n      <td>0.126031</td>\n      <td>0.550600</td>\n      <td>-0.194149</td>\n      <td>0.468271</td>\n      <td>0.439046</td>\n      <td>0.288886</td>\n      <td>0.323722</td>\n      <td>0.380637</td>\n      <td>...</td>\n      <td>0.554784</td>\n      <td>0.243671</td>\n      <td>0.484557</td>\n      <td>0.469672</td>\n      <td>0.405656</td>\n      <td>0.187703</td>\n      <td>0.259977</td>\n      <td>0.055872</td>\n      <td>-0.019669</td>\n      <td>0.560664</td>\n    </tr>\n    <tr>\n      <th>HalfBath</th>\n      <td>0.177354</td>\n      <td>0.053532</td>\n      <td>0.014259</td>\n      <td>0.273458</td>\n      <td>-0.060769</td>\n      <td>0.242656</td>\n      <td>0.183331</td>\n      <td>-0.041118</td>\n      <td>-0.048804</td>\n      <td>-0.119916</td>\n      <td>...</td>\n      <td>0.343415</td>\n      <td>0.203649</td>\n      <td>0.196785</td>\n      <td>0.219178</td>\n      <td>0.163549</td>\n      <td>0.108080</td>\n      <td>0.199740</td>\n      <td>-0.009050</td>\n      <td>-0.010269</td>\n      <td>0.284108</td>\n    </tr>\n    <tr>\n      <th>BedroomAbvGr</th>\n      <td>-0.023438</td>\n      <td>0.263170</td>\n      <td>0.119690</td>\n      <td>0.101676</td>\n      <td>0.012980</td>\n      <td>-0.070651</td>\n      <td>-0.040581</td>\n      <td>0.166643</td>\n      <td>0.050450</td>\n      <td>0.127401</td>\n      <td>...</td>\n      <td>0.676620</td>\n      <td>0.107570</td>\n      <td>-0.064518</td>\n      <td>0.086106</td>\n      <td>0.065253</td>\n      <td>0.046854</td>\n      <td>0.093810</td>\n      <td>0.046544</td>\n      <td>-0.036014</td>\n      <td>0.168213</td>\n    </tr>\n    <tr>\n      <th>TotRmsAbvGrd</th>\n      <td>0.040380</td>\n      <td>0.352096</td>\n      <td>0.190015</td>\n      <td>0.427452</td>\n      <td>-0.057583</td>\n      <td>0.095589</td>\n      <td>0.191740</td>\n      <td>0.250647</td>\n      <td>0.285573</td>\n      <td>0.409516</td>\n      <td>...</td>\n      <td>1.000000</td>\n      <td>0.326114</td>\n      <td>0.148112</td>\n      <td>0.362289</td>\n      <td>0.337822</td>\n      <td>0.165984</td>\n      <td>0.234192</td>\n      <td>0.036907</td>\n      <td>-0.034516</td>\n      <td>0.533723</td>\n    </tr>\n    <tr>\n      <th>Fireplaces</th>\n      <td>-0.045569</td>\n      <td>0.266639</td>\n      <td>0.271364</td>\n      <td>0.396765</td>\n      <td>-0.023820</td>\n      <td>0.147716</td>\n      <td>0.112581</td>\n      <td>0.051575</td>\n      <td>0.339519</td>\n      <td>0.410531</td>\n      <td>...</td>\n      <td>0.326114</td>\n      <td>1.000000</td>\n      <td>0.046822</td>\n      <td>0.300789</td>\n      <td>0.269141</td>\n      <td>0.200019</td>\n      <td>0.169405</td>\n      <td>0.046357</td>\n      <td>-0.024096</td>\n      <td>0.466929</td>\n    </tr>\n    <tr>\n      <th>GarageYrBlt</th>\n      <td>0.085072</td>\n      <td>0.070250</td>\n      <td>-0.024947</td>\n      <td>0.547766</td>\n      <td>-0.324297</td>\n      <td>0.825667</td>\n      <td>0.642277</td>\n      <td>0.190708</td>\n      <td>0.322445</td>\n      <td>0.233449</td>\n      <td>...</td>\n      <td>0.148112</td>\n      <td>0.046822</td>\n      <td>1.000000</td>\n      <td>0.588920</td>\n      <td>0.564567</td>\n      <td>0.224577</td>\n      <td>0.228425</td>\n      <td>0.005337</td>\n      <td>-0.001014</td>\n      <td>0.486362</td>\n    </tr>\n    <tr>\n      <th>GarageCars</th>\n      <td>-0.040110</td>\n      <td>0.285691</td>\n      <td>0.154871</td>\n      <td>0.600671</td>\n      <td>-0.185758</td>\n      <td>0.537850</td>\n      <td>0.420622</td>\n      <td>0.214175</td>\n      <td>0.434585</td>\n      <td>0.439317</td>\n      <td>...</td>\n      <td>0.362289</td>\n      <td>0.300789</td>\n      <td>0.588920</td>\n      <td>1.000000</td>\n      <td>0.882475</td>\n      <td>0.226342</td>\n      <td>0.213569</td>\n      <td>0.040522</td>\n      <td>-0.039117</td>\n      <td>0.640409</td>\n    </tr>\n    <tr>\n      <th>GarageArea</th>\n      <td>-0.098672</td>\n      <td>0.344997</td>\n      <td>0.180403</td>\n      <td>0.562022</td>\n      <td>-0.151521</td>\n      <td>0.478954</td>\n      <td>0.371600</td>\n      <td>0.183303</td>\n      <td>0.486665</td>\n      <td>0.489782</td>\n      <td>...</td>\n      <td>0.337822</td>\n      <td>0.269141</td>\n      <td>0.564567</td>\n      <td>0.882475</td>\n      <td>1.000000</td>\n      <td>0.224666</td>\n      <td>0.241435</td>\n      <td>0.027974</td>\n      <td>-0.027378</td>\n      <td>0.623431</td>\n    </tr>\n    <tr>\n      <th>WoodDeckSF</th>\n      <td>-0.012579</td>\n      <td>0.088521</td>\n      <td>0.171698</td>\n      <td>0.238923</td>\n      <td>-0.003334</td>\n      <td>0.224880</td>\n      <td>0.205726</td>\n      <td>-0.005316</td>\n      <td>0.232019</td>\n      <td>0.235459</td>\n      <td>...</td>\n      <td>0.165984</td>\n      <td>0.200019</td>\n      <td>0.224577</td>\n      <td>0.226342</td>\n      <td>0.224666</td>\n      <td>1.000000</td>\n      <td>0.058661</td>\n      <td>0.021011</td>\n      <td>0.022270</td>\n      <td>0.324413</td>\n    </tr>\n    <tr>\n      <th>OpenPorchSF</th>\n      <td>-0.006100</td>\n      <td>0.151972</td>\n      <td>0.084774</td>\n      <td>0.308819</td>\n      <td>-0.032589</td>\n      <td>0.188686</td>\n      <td>0.226298</td>\n      <td>0.129005</td>\n      <td>0.247264</td>\n      <td>0.211671</td>\n      <td>...</td>\n      <td>0.234192</td>\n      <td>0.169405</td>\n      <td>0.228425</td>\n      <td>0.213569</td>\n      <td>0.241435</td>\n      <td>0.058661</td>\n      <td>1.000000</td>\n      <td>0.071255</td>\n      <td>-0.057619</td>\n      <td>0.315856</td>\n    </tr>\n    <tr>\n      <th>MoSold</th>\n      <td>-0.013585</td>\n      <td>0.011200</td>\n      <td>0.001205</td>\n      <td>0.070815</td>\n      <td>-0.003511</td>\n      <td>0.012398</td>\n      <td>0.021490</td>\n      <td>0.034888</td>\n      <td>0.013196</td>\n      <td>0.031372</td>\n      <td>...</td>\n      <td>0.036907</td>\n      <td>0.046357</td>\n      <td>0.005337</td>\n      <td>0.040522</td>\n      <td>0.027974</td>\n      <td>0.021011</td>\n      <td>0.071255</td>\n      <td>1.000000</td>\n      <td>-0.145721</td>\n      <td>0.046432</td>\n    </tr>\n    <tr>\n      <th>YrSold</th>\n      <td>-0.021407</td>\n      <td>0.007450</td>\n      <td>-0.014261</td>\n      <td>-0.027347</td>\n      <td>0.043950</td>\n      <td>-0.013618</td>\n      <td>0.035743</td>\n      <td>-0.041258</td>\n      <td>-0.014969</td>\n      <td>-0.013604</td>\n      <td>...</td>\n      <td>-0.034516</td>\n      <td>-0.024096</td>\n      <td>-0.001014</td>\n      <td>-0.039117</td>\n      <td>-0.027378</td>\n      <td>0.022270</td>\n      <td>-0.057619</td>\n      <td>-0.145721</td>\n      <td>1.000000</td>\n      <td>-0.028923</td>\n    </tr>\n    <tr>\n      <th>SalePrice</th>\n      <td>-0.084284</td>\n      <td>0.351799</td>\n      <td>0.263843</td>\n      <td>0.790982</td>\n      <td>-0.077856</td>\n      <td>0.522897</td>\n      <td>0.507101</td>\n      <td>0.214479</td>\n      <td>0.613581</td>\n      <td>0.605852</td>\n      <td>...</td>\n      <td>0.533723</td>\n      <td>0.466929</td>\n      <td>0.486362</td>\n      <td>0.640409</td>\n      <td>0.623431</td>\n      <td>0.324413</td>\n      <td>0.315856</td>\n      <td>0.046432</td>\n      <td>-0.028923</td>\n      <td>1.000000</td>\n    </tr>\n  </tbody>\n</table>\n<p>26 rows × 26 columns</p>\n</div>"
     },
     "execution_count": 128,
     "metadata": {},
     "output_type": "execute_result"
    }
   ],
   "source": [
    "df_num.corr()"
   ],
   "metadata": {
    "collapsed": false,
    "ExecuteTime": {
     "end_time": "2025-07-26T17:58:39.856149300Z",
     "start_time": "2025-07-26T17:58:39.720938900Z"
    }
   },
   "id": "465409abeeaf19cb",
   "execution_count": 128
  },
  {
   "cell_type": "markdown",
   "source": [
    "### Drop highly correlated column"
   ],
   "metadata": {
    "collapsed": false
   },
   "id": "fc376001f0880ff3"
  },
  {
   "cell_type": "code",
   "outputs": [],
   "source": [
    "df_num=df_num.drop(['1stFlrSF'],axis=1)"
   ],
   "metadata": {
    "collapsed": false,
    "ExecuteTime": {
     "end_time": "2025-07-26T17:58:39.885356900Z",
     "start_time": "2025-07-26T17:58:39.796200900Z"
    }
   },
   "id": "53a41c3b4dbfa0eb",
   "execution_count": 129
  },
  {
   "cell_type": "markdown",
   "source": [
    "### Split categorical data and test chi square"
   ],
   "metadata": {
    "collapsed": false
   },
   "id": "98f02588832790e8"
  },
  {
   "cell_type": "code",
   "outputs": [],
   "source": [
    "df_cat= df.select_dtypes(include = ['object'])"
   ],
   "metadata": {
    "collapsed": false,
    "ExecuteTime": {
     "end_time": "2025-07-26T17:58:39.954903200Z",
     "start_time": "2025-07-26T17:58:39.894374200Z"
    }
   },
   "id": "24aa3946af6b97c9",
   "execution_count": 130
  },
  {
   "cell_type": "code",
   "outputs": [
    {
     "data": {
      "text/plain": "      LotShape  Neighborhood  HouseStyle  Exterior1st  Exterior2nd  \\\n0            3             5           5           12           13   \n1            3            24           2            8            8   \n2            0             5           5           12           13   \n3            0             6           5           13           15   \n4            0            15           5           12           13   \n...        ...           ...         ...          ...          ...   \n1455         3             8           5           12           13   \n1456         3            14           2            9           10   \n1457         3             6           5            5            5   \n1458         3            12           2            8            8   \n1459         3             7           2            6            6   \n\n      MasVnrType  ExterQual  Foundation  BsmtQual  BsmtFinType1  HeatingQC  \\\n0              1          2           2         2             2          0   \n1              3          3           1         2             0          0   \n2              1          2           2         2             2          0   \n3              3          3           0         3             0          2   \n4              1          2           2         2             2          0   \n...          ...        ...         ...       ...           ...        ...   \n1455           3          3           2         2             5          0   \n1456           2          3           1         2             0          4   \n1457           3          0           4         3             2          0   \n1458           3          3           1         3             2          2   \n1459           3          2           1         3             1          2   \n\n      KitchenQual  FireplaceQu  GarageType  GarageFinish  \n0               2            5           1             1  \n1               3            4           1             1  \n2               2            4           1             1  \n3               2            2           5             2  \n4               2            4           1             1  \n...           ...          ...         ...           ...  \n1455            3            4           1             1  \n1456            3            4           1             2  \n1457            2            2           1             1  \n1458            2            5           1             2  \n1459            3            5           1             0  \n\n[1460 rows x 15 columns]",
      "text/html": "<div>\n<style scoped>\n    .dataframe tbody tr th:only-of-type {\n        vertical-align: middle;\n    }\n\n    .dataframe tbody tr th {\n        vertical-align: top;\n    }\n\n    .dataframe thead th {\n        text-align: right;\n    }\n</style>\n<table border=\"1\" class=\"dataframe\">\n  <thead>\n    <tr style=\"text-align: right;\">\n      <th></th>\n      <th>LotShape</th>\n      <th>Neighborhood</th>\n      <th>HouseStyle</th>\n      <th>Exterior1st</th>\n      <th>Exterior2nd</th>\n      <th>MasVnrType</th>\n      <th>ExterQual</th>\n      <th>Foundation</th>\n      <th>BsmtQual</th>\n      <th>BsmtFinType1</th>\n      <th>HeatingQC</th>\n      <th>KitchenQual</th>\n      <th>FireplaceQu</th>\n      <th>GarageType</th>\n      <th>GarageFinish</th>\n    </tr>\n  </thead>\n  <tbody>\n    <tr>\n      <th>0</th>\n      <td>3</td>\n      <td>5</td>\n      <td>5</td>\n      <td>12</td>\n      <td>13</td>\n      <td>1</td>\n      <td>2</td>\n      <td>2</td>\n      <td>2</td>\n      <td>2</td>\n      <td>0</td>\n      <td>2</td>\n      <td>5</td>\n      <td>1</td>\n      <td>1</td>\n    </tr>\n    <tr>\n      <th>1</th>\n      <td>3</td>\n      <td>24</td>\n      <td>2</td>\n      <td>8</td>\n      <td>8</td>\n      <td>3</td>\n      <td>3</td>\n      <td>1</td>\n      <td>2</td>\n      <td>0</td>\n      <td>0</td>\n      <td>3</td>\n      <td>4</td>\n      <td>1</td>\n      <td>1</td>\n    </tr>\n    <tr>\n      <th>2</th>\n      <td>0</td>\n      <td>5</td>\n      <td>5</td>\n      <td>12</td>\n      <td>13</td>\n      <td>1</td>\n      <td>2</td>\n      <td>2</td>\n      <td>2</td>\n      <td>2</td>\n      <td>0</td>\n      <td>2</td>\n      <td>4</td>\n      <td>1</td>\n      <td>1</td>\n    </tr>\n    <tr>\n      <th>3</th>\n      <td>0</td>\n      <td>6</td>\n      <td>5</td>\n      <td>13</td>\n      <td>15</td>\n      <td>3</td>\n      <td>3</td>\n      <td>0</td>\n      <td>3</td>\n      <td>0</td>\n      <td>2</td>\n      <td>2</td>\n      <td>2</td>\n      <td>5</td>\n      <td>2</td>\n    </tr>\n    <tr>\n      <th>4</th>\n      <td>0</td>\n      <td>15</td>\n      <td>5</td>\n      <td>12</td>\n      <td>13</td>\n      <td>1</td>\n      <td>2</td>\n      <td>2</td>\n      <td>2</td>\n      <td>2</td>\n      <td>0</td>\n      <td>2</td>\n      <td>4</td>\n      <td>1</td>\n      <td>1</td>\n    </tr>\n    <tr>\n      <th>...</th>\n      <td>...</td>\n      <td>...</td>\n      <td>...</td>\n      <td>...</td>\n      <td>...</td>\n      <td>...</td>\n      <td>...</td>\n      <td>...</td>\n      <td>...</td>\n      <td>...</td>\n      <td>...</td>\n      <td>...</td>\n      <td>...</td>\n      <td>...</td>\n      <td>...</td>\n    </tr>\n    <tr>\n      <th>1455</th>\n      <td>3</td>\n      <td>8</td>\n      <td>5</td>\n      <td>12</td>\n      <td>13</td>\n      <td>3</td>\n      <td>3</td>\n      <td>2</td>\n      <td>2</td>\n      <td>5</td>\n      <td>0</td>\n      <td>3</td>\n      <td>4</td>\n      <td>1</td>\n      <td>1</td>\n    </tr>\n    <tr>\n      <th>1456</th>\n      <td>3</td>\n      <td>14</td>\n      <td>2</td>\n      <td>9</td>\n      <td>10</td>\n      <td>2</td>\n      <td>3</td>\n      <td>1</td>\n      <td>2</td>\n      <td>0</td>\n      <td>4</td>\n      <td>3</td>\n      <td>4</td>\n      <td>1</td>\n      <td>2</td>\n    </tr>\n    <tr>\n      <th>1457</th>\n      <td>3</td>\n      <td>6</td>\n      <td>5</td>\n      <td>5</td>\n      <td>5</td>\n      <td>3</td>\n      <td>0</td>\n      <td>4</td>\n      <td>3</td>\n      <td>2</td>\n      <td>0</td>\n      <td>2</td>\n      <td>2</td>\n      <td>1</td>\n      <td>1</td>\n    </tr>\n    <tr>\n      <th>1458</th>\n      <td>3</td>\n      <td>12</td>\n      <td>2</td>\n      <td>8</td>\n      <td>8</td>\n      <td>3</td>\n      <td>3</td>\n      <td>1</td>\n      <td>3</td>\n      <td>2</td>\n      <td>2</td>\n      <td>2</td>\n      <td>5</td>\n      <td>1</td>\n      <td>2</td>\n    </tr>\n    <tr>\n      <th>1459</th>\n      <td>3</td>\n      <td>7</td>\n      <td>2</td>\n      <td>6</td>\n      <td>6</td>\n      <td>3</td>\n      <td>2</td>\n      <td>1</td>\n      <td>3</td>\n      <td>1</td>\n      <td>2</td>\n      <td>3</td>\n      <td>5</td>\n      <td>1</td>\n      <td>0</td>\n    </tr>\n  </tbody>\n</table>\n<p>1460 rows × 15 columns</p>\n</div>"
     },
     "execution_count": 131,
     "metadata": {},
     "output_type": "execute_result"
    }
   ],
   "source": [
    "for col in df_cat:\n",
    " le = LabelEncoder()\n",
    " df_cat[col] = le.fit_transform(df_cat[col])\n",
    "df_cat"
   ],
   "metadata": {
    "collapsed": false,
    "ExecuteTime": {
     "end_time": "2025-07-26T17:58:40.120269Z",
     "start_time": "2025-07-26T17:58:39.963007900Z"
    }
   },
   "id": "809099c8ed9536be",
   "execution_count": 131
  },
  {
   "cell_type": "code",
   "outputs": [
    {
     "data": {
      "text/plain": "Power_divergenceResult(statistic=array([1491.48942172, 4306.84469168, 1754.18935978, 1550.00967834,\n       1768.85691574,  558.58034368,  276.68176915,  545.17851888,\n        511.71836007, 1820.93917275, 2869.85040071,  429.74941452,\n        750.46534653, 2193.70046845,  905.61866667]), pvalue=array([2.71142412e-001, 2.61588107e-278, 1.32772909e-007, 4.81305721e-002,\n       3.60029639e-008, 1.00000000e+000, 1.00000000e+000, 1.00000000e+000,\n       1.00000000e+000, 2.37945106e-010, 1.41383489e-094, 1.00000000e+000,\n       1.00000000e+000, 1.36825965e-032, 1.00000000e+000]))"
     },
     "execution_count": 132,
     "metadata": {},
     "output_type": "execute_result"
    }
   ],
   "source": [
    "chisquare(df_cat)"
   ],
   "metadata": {
    "collapsed": false,
    "ExecuteTime": {
     "end_time": "2025-07-26T17:58:40.199889500Z",
     "start_time": "2025-07-26T17:58:40.034607200Z"
    }
   },
   "id": "344f516fcd508e90",
   "execution_count": 132
  },
  {
   "cell_type": "code",
   "outputs": [
    {
     "data": {
      "text/plain": "      LotShape  Neighborhood  HouseStyle  Exterior1st  Exterior2nd  \\\n0            3             5           5           12           13   \n1            3            24           2            8            8   \n2            0             5           5           12           13   \n3            0             6           5           13           15   \n4            0            15           5           12           13   \n...        ...           ...         ...          ...          ...   \n1455         3             8           5           12           13   \n1456         3            14           2            9           10   \n1457         3             6           5            5            5   \n1458         3            12           2            8            8   \n1459         3             7           2            6            6   \n\n      MasVnrType  ExterQual  Foundation  BsmtQual  BsmtFinType1  HeatingQC  \\\n0              1          2           2         2             2          0   \n1              3          3           1         2             0          0   \n2              1          2           2         2             2          0   \n3              3          3           0         3             0          2   \n4              1          2           2         2             2          0   \n...          ...        ...         ...       ...           ...        ...   \n1455           3          3           2         2             5          0   \n1456           2          3           1         2             0          4   \n1457           3          0           4         3             2          0   \n1458           3          3           1         3             2          2   \n1459           3          2           1         3             1          2   \n\n      KitchenQual  FireplaceQu  GarageType  GarageFinish  \n0               2            5           1             1  \n1               3            4           1             1  \n2               2            4           1             1  \n3               2            2           5             2  \n4               2            4           1             1  \n...           ...          ...         ...           ...  \n1455            3            4           1             1  \n1456            3            4           1             2  \n1457            2            2           1             1  \n1458            2            5           1             2  \n1459            3            5           1             0  \n\n[1460 rows x 15 columns]",
      "text/html": "<div>\n<style scoped>\n    .dataframe tbody tr th:only-of-type {\n        vertical-align: middle;\n    }\n\n    .dataframe tbody tr th {\n        vertical-align: top;\n    }\n\n    .dataframe thead th {\n        text-align: right;\n    }\n</style>\n<table border=\"1\" class=\"dataframe\">\n  <thead>\n    <tr style=\"text-align: right;\">\n      <th></th>\n      <th>LotShape</th>\n      <th>Neighborhood</th>\n      <th>HouseStyle</th>\n      <th>Exterior1st</th>\n      <th>Exterior2nd</th>\n      <th>MasVnrType</th>\n      <th>ExterQual</th>\n      <th>Foundation</th>\n      <th>BsmtQual</th>\n      <th>BsmtFinType1</th>\n      <th>HeatingQC</th>\n      <th>KitchenQual</th>\n      <th>FireplaceQu</th>\n      <th>GarageType</th>\n      <th>GarageFinish</th>\n    </tr>\n  </thead>\n  <tbody>\n    <tr>\n      <th>0</th>\n      <td>3</td>\n      <td>5</td>\n      <td>5</td>\n      <td>12</td>\n      <td>13</td>\n      <td>1</td>\n      <td>2</td>\n      <td>2</td>\n      <td>2</td>\n      <td>2</td>\n      <td>0</td>\n      <td>2</td>\n      <td>5</td>\n      <td>1</td>\n      <td>1</td>\n    </tr>\n    <tr>\n      <th>1</th>\n      <td>3</td>\n      <td>24</td>\n      <td>2</td>\n      <td>8</td>\n      <td>8</td>\n      <td>3</td>\n      <td>3</td>\n      <td>1</td>\n      <td>2</td>\n      <td>0</td>\n      <td>0</td>\n      <td>3</td>\n      <td>4</td>\n      <td>1</td>\n      <td>1</td>\n    </tr>\n    <tr>\n      <th>2</th>\n      <td>0</td>\n      <td>5</td>\n      <td>5</td>\n      <td>12</td>\n      <td>13</td>\n      <td>1</td>\n      <td>2</td>\n      <td>2</td>\n      <td>2</td>\n      <td>2</td>\n      <td>0</td>\n      <td>2</td>\n      <td>4</td>\n      <td>1</td>\n      <td>1</td>\n    </tr>\n    <tr>\n      <th>3</th>\n      <td>0</td>\n      <td>6</td>\n      <td>5</td>\n      <td>13</td>\n      <td>15</td>\n      <td>3</td>\n      <td>3</td>\n      <td>0</td>\n      <td>3</td>\n      <td>0</td>\n      <td>2</td>\n      <td>2</td>\n      <td>2</td>\n      <td>5</td>\n      <td>2</td>\n    </tr>\n    <tr>\n      <th>4</th>\n      <td>0</td>\n      <td>15</td>\n      <td>5</td>\n      <td>12</td>\n      <td>13</td>\n      <td>1</td>\n      <td>2</td>\n      <td>2</td>\n      <td>2</td>\n      <td>2</td>\n      <td>0</td>\n      <td>2</td>\n      <td>4</td>\n      <td>1</td>\n      <td>1</td>\n    </tr>\n    <tr>\n      <th>...</th>\n      <td>...</td>\n      <td>...</td>\n      <td>...</td>\n      <td>...</td>\n      <td>...</td>\n      <td>...</td>\n      <td>...</td>\n      <td>...</td>\n      <td>...</td>\n      <td>...</td>\n      <td>...</td>\n      <td>...</td>\n      <td>...</td>\n      <td>...</td>\n      <td>...</td>\n    </tr>\n    <tr>\n      <th>1455</th>\n      <td>3</td>\n      <td>8</td>\n      <td>5</td>\n      <td>12</td>\n      <td>13</td>\n      <td>3</td>\n      <td>3</td>\n      <td>2</td>\n      <td>2</td>\n      <td>5</td>\n      <td>0</td>\n      <td>3</td>\n      <td>4</td>\n      <td>1</td>\n      <td>1</td>\n    </tr>\n    <tr>\n      <th>1456</th>\n      <td>3</td>\n      <td>14</td>\n      <td>2</td>\n      <td>9</td>\n      <td>10</td>\n      <td>2</td>\n      <td>3</td>\n      <td>1</td>\n      <td>2</td>\n      <td>0</td>\n      <td>4</td>\n      <td>3</td>\n      <td>4</td>\n      <td>1</td>\n      <td>2</td>\n    </tr>\n    <tr>\n      <th>1457</th>\n      <td>3</td>\n      <td>6</td>\n      <td>5</td>\n      <td>5</td>\n      <td>5</td>\n      <td>3</td>\n      <td>0</td>\n      <td>4</td>\n      <td>3</td>\n      <td>2</td>\n      <td>0</td>\n      <td>2</td>\n      <td>2</td>\n      <td>1</td>\n      <td>1</td>\n    </tr>\n    <tr>\n      <th>1458</th>\n      <td>3</td>\n      <td>12</td>\n      <td>2</td>\n      <td>8</td>\n      <td>8</td>\n      <td>3</td>\n      <td>3</td>\n      <td>1</td>\n      <td>3</td>\n      <td>2</td>\n      <td>2</td>\n      <td>2</td>\n      <td>5</td>\n      <td>1</td>\n      <td>2</td>\n    </tr>\n    <tr>\n      <th>1459</th>\n      <td>3</td>\n      <td>7</td>\n      <td>2</td>\n      <td>6</td>\n      <td>6</td>\n      <td>3</td>\n      <td>2</td>\n      <td>1</td>\n      <td>3</td>\n      <td>1</td>\n      <td>2</td>\n      <td>3</td>\n      <td>5</td>\n      <td>1</td>\n      <td>0</td>\n    </tr>\n  </tbody>\n</table>\n<p>1460 rows × 15 columns</p>\n</div>"
     },
     "execution_count": 133,
     "metadata": {},
     "output_type": "execute_result"
    }
   ],
   "source": [
    "df_cat"
   ],
   "metadata": {
    "collapsed": false,
    "ExecuteTime": {
     "end_time": "2025-07-26T17:58:40.352670800Z",
     "start_time": "2025-07-26T17:58:40.195247500Z"
    }
   },
   "id": "3af496fed9f4d035",
   "execution_count": 133
  },
  {
   "cell_type": "markdown",
   "source": [
    "### Drop highly dependent features"
   ],
   "metadata": {
    "collapsed": false
   },
   "id": "e33b5443c09decee"
  },
  {
   "cell_type": "code",
   "outputs": [],
   "source": [
    "df_cat=df_cat.drop(['LotShape','MasVnrType','ExterQual','Foundation','BsmtQual','KitchenQual','FireplaceQu','GarageFinish'] , axis=1 , inplace=True)"
   ],
   "metadata": {
    "collapsed": false,
    "ExecuteTime": {
     "end_time": "2025-07-26T17:58:40.472730900Z",
     "start_time": "2025-07-26T17:58:40.319577200Z"
    }
   },
   "id": "a26e41b0895a9780",
   "execution_count": 134
  },
  {
   "cell_type": "code",
   "outputs": [],
   "source": [
    "df_cat"
   ],
   "metadata": {
    "collapsed": false,
    "ExecuteTime": {
     "end_time": "2025-07-26T17:58:40.535316900Z",
     "start_time": "2025-07-26T17:58:40.404280600Z"
    }
   },
   "id": "e142ad0ade4c2266",
   "execution_count": 135
  },
  {
   "cell_type": "markdown",
   "source": [
    "### Merge the data"
   ],
   "metadata": {
    "collapsed": false
   },
   "id": "d3b66e029cade431"
  },
  {
   "cell_type": "code",
   "outputs": [],
   "source": [
    "df2=pd.concat([df_cat,df_num],axis=1)"
   ],
   "metadata": {
    "collapsed": false,
    "ExecuteTime": {
     "end_time": "2025-07-26T17:58:40.709129Z",
     "start_time": "2025-07-26T17:58:40.543150800Z"
    }
   },
   "id": "e37cff5d18868a76",
   "execution_count": 136
  },
  {
   "cell_type": "code",
   "outputs": [
    {
     "data": {
      "text/plain": "      MSSubClass  LotFrontage  LotArea  OverallQual  OverallCond  YearBuilt  \\\n0             60         65.0     8450            7            5       2003   \n1             20         80.0     9600            6            8       1976   \n2             60         68.0    11250            7            5       2001   \n3             70         60.0     9550            7            5       1915   \n4             60         84.0    14260            8            5       2000   \n...          ...          ...      ...          ...          ...        ...   \n1455          60         62.0     7917            6            5       1999   \n1456          20         85.0    13175            6            6       1978   \n1457          70         66.0     9042            7            9       1941   \n1458          20         68.0     9717            5            6       1950   \n1459          20         75.0     9937            5            6       1965   \n\n      YearRemodAdd  BsmtUnfSF  TotalBsmtSF  2ndFlrSF  ...  TotRmsAbvGrd  \\\n0             2003        150          856       854  ...             8   \n1             1976        284         1262         0  ...             6   \n2             2002        434          920       866  ...             6   \n3             1970        540          756       756  ...             7   \n4             2000        490         1145      1053  ...             9   \n...            ...        ...          ...       ...  ...           ...   \n1455          2000        953          953       694  ...             7   \n1456          1988        589         1542         0  ...             7   \n1457          2006        877         1152      1152  ...             9   \n1458          1996          0         1078         0  ...             5   \n1459          1965        136         1256         0  ...             6   \n\n      Fireplaces  GarageYrBlt  GarageCars  GarageArea  WoodDeckSF  \\\n0              0       2003.0           2         548           0   \n1              1       1976.0           2         460         298   \n2              1       2001.0           2         608           0   \n3              1       1998.0           3         642           0   \n4              1       2000.0           3         836         192   \n...          ...          ...         ...         ...         ...   \n1455           1       1999.0           2         460           0   \n1456           2       1978.0           2         500         349   \n1457           2       1941.0           1         252           0   \n1458           0       1950.0           1         240         366   \n1459           0       1965.0           1         276         736   \n\n      OpenPorchSF  MoSold  YrSold  SalePrice  \n0              61       2    2008     208500  \n1               0       5    2007     181500  \n2              42       9    2008     223500  \n3              35       2    2006     140000  \n4              84      12    2008     250000  \n...           ...     ...     ...        ...  \n1455           40       8    2007     175000  \n1456            0       2    2010     210000  \n1457           60       5    2010     266500  \n1458            0       4    2010     142125  \n1459           68       6    2008     147500  \n\n[1460 rows x 25 columns]",
      "text/html": "<div>\n<style scoped>\n    .dataframe tbody tr th:only-of-type {\n        vertical-align: middle;\n    }\n\n    .dataframe tbody tr th {\n        vertical-align: top;\n    }\n\n    .dataframe thead th {\n        text-align: right;\n    }\n</style>\n<table border=\"1\" class=\"dataframe\">\n  <thead>\n    <tr style=\"text-align: right;\">\n      <th></th>\n      <th>MSSubClass</th>\n      <th>LotFrontage</th>\n      <th>LotArea</th>\n      <th>OverallQual</th>\n      <th>OverallCond</th>\n      <th>YearBuilt</th>\n      <th>YearRemodAdd</th>\n      <th>BsmtUnfSF</th>\n      <th>TotalBsmtSF</th>\n      <th>2ndFlrSF</th>\n      <th>...</th>\n      <th>TotRmsAbvGrd</th>\n      <th>Fireplaces</th>\n      <th>GarageYrBlt</th>\n      <th>GarageCars</th>\n      <th>GarageArea</th>\n      <th>WoodDeckSF</th>\n      <th>OpenPorchSF</th>\n      <th>MoSold</th>\n      <th>YrSold</th>\n      <th>SalePrice</th>\n    </tr>\n  </thead>\n  <tbody>\n    <tr>\n      <th>0</th>\n      <td>60</td>\n      <td>65.0</td>\n      <td>8450</td>\n      <td>7</td>\n      <td>5</td>\n      <td>2003</td>\n      <td>2003</td>\n      <td>150</td>\n      <td>856</td>\n      <td>854</td>\n      <td>...</td>\n      <td>8</td>\n      <td>0</td>\n      <td>2003.0</td>\n      <td>2</td>\n      <td>548</td>\n      <td>0</td>\n      <td>61</td>\n      <td>2</td>\n      <td>2008</td>\n      <td>208500</td>\n    </tr>\n    <tr>\n      <th>1</th>\n      <td>20</td>\n      <td>80.0</td>\n      <td>9600</td>\n      <td>6</td>\n      <td>8</td>\n      <td>1976</td>\n      <td>1976</td>\n      <td>284</td>\n      <td>1262</td>\n      <td>0</td>\n      <td>...</td>\n      <td>6</td>\n      <td>1</td>\n      <td>1976.0</td>\n      <td>2</td>\n      <td>460</td>\n      <td>298</td>\n      <td>0</td>\n      <td>5</td>\n      <td>2007</td>\n      <td>181500</td>\n    </tr>\n    <tr>\n      <th>2</th>\n      <td>60</td>\n      <td>68.0</td>\n      <td>11250</td>\n      <td>7</td>\n      <td>5</td>\n      <td>2001</td>\n      <td>2002</td>\n      <td>434</td>\n      <td>920</td>\n      <td>866</td>\n      <td>...</td>\n      <td>6</td>\n      <td>1</td>\n      <td>2001.0</td>\n      <td>2</td>\n      <td>608</td>\n      <td>0</td>\n      <td>42</td>\n      <td>9</td>\n      <td>2008</td>\n      <td>223500</td>\n    </tr>\n    <tr>\n      <th>3</th>\n      <td>70</td>\n      <td>60.0</td>\n      <td>9550</td>\n      <td>7</td>\n      <td>5</td>\n      <td>1915</td>\n      <td>1970</td>\n      <td>540</td>\n      <td>756</td>\n      <td>756</td>\n      <td>...</td>\n      <td>7</td>\n      <td>1</td>\n      <td>1998.0</td>\n      <td>3</td>\n      <td>642</td>\n      <td>0</td>\n      <td>35</td>\n      <td>2</td>\n      <td>2006</td>\n      <td>140000</td>\n    </tr>\n    <tr>\n      <th>4</th>\n      <td>60</td>\n      <td>84.0</td>\n      <td>14260</td>\n      <td>8</td>\n      <td>5</td>\n      <td>2000</td>\n      <td>2000</td>\n      <td>490</td>\n      <td>1145</td>\n      <td>1053</td>\n      <td>...</td>\n      <td>9</td>\n      <td>1</td>\n      <td>2000.0</td>\n      <td>3</td>\n      <td>836</td>\n      <td>192</td>\n      <td>84</td>\n      <td>12</td>\n      <td>2008</td>\n      <td>250000</td>\n    </tr>\n    <tr>\n      <th>...</th>\n      <td>...</td>\n      <td>...</td>\n      <td>...</td>\n      <td>...</td>\n      <td>...</td>\n      <td>...</td>\n      <td>...</td>\n      <td>...</td>\n      <td>...</td>\n      <td>...</td>\n      <td>...</td>\n      <td>...</td>\n      <td>...</td>\n      <td>...</td>\n      <td>...</td>\n      <td>...</td>\n      <td>...</td>\n      <td>...</td>\n      <td>...</td>\n      <td>...</td>\n      <td>...</td>\n    </tr>\n    <tr>\n      <th>1455</th>\n      <td>60</td>\n      <td>62.0</td>\n      <td>7917</td>\n      <td>6</td>\n      <td>5</td>\n      <td>1999</td>\n      <td>2000</td>\n      <td>953</td>\n      <td>953</td>\n      <td>694</td>\n      <td>...</td>\n      <td>7</td>\n      <td>1</td>\n      <td>1999.0</td>\n      <td>2</td>\n      <td>460</td>\n      <td>0</td>\n      <td>40</td>\n      <td>8</td>\n      <td>2007</td>\n      <td>175000</td>\n    </tr>\n    <tr>\n      <th>1456</th>\n      <td>20</td>\n      <td>85.0</td>\n      <td>13175</td>\n      <td>6</td>\n      <td>6</td>\n      <td>1978</td>\n      <td>1988</td>\n      <td>589</td>\n      <td>1542</td>\n      <td>0</td>\n      <td>...</td>\n      <td>7</td>\n      <td>2</td>\n      <td>1978.0</td>\n      <td>2</td>\n      <td>500</td>\n      <td>349</td>\n      <td>0</td>\n      <td>2</td>\n      <td>2010</td>\n      <td>210000</td>\n    </tr>\n    <tr>\n      <th>1457</th>\n      <td>70</td>\n      <td>66.0</td>\n      <td>9042</td>\n      <td>7</td>\n      <td>9</td>\n      <td>1941</td>\n      <td>2006</td>\n      <td>877</td>\n      <td>1152</td>\n      <td>1152</td>\n      <td>...</td>\n      <td>9</td>\n      <td>2</td>\n      <td>1941.0</td>\n      <td>1</td>\n      <td>252</td>\n      <td>0</td>\n      <td>60</td>\n      <td>5</td>\n      <td>2010</td>\n      <td>266500</td>\n    </tr>\n    <tr>\n      <th>1458</th>\n      <td>20</td>\n      <td>68.0</td>\n      <td>9717</td>\n      <td>5</td>\n      <td>6</td>\n      <td>1950</td>\n      <td>1996</td>\n      <td>0</td>\n      <td>1078</td>\n      <td>0</td>\n      <td>...</td>\n      <td>5</td>\n      <td>0</td>\n      <td>1950.0</td>\n      <td>1</td>\n      <td>240</td>\n      <td>366</td>\n      <td>0</td>\n      <td>4</td>\n      <td>2010</td>\n      <td>142125</td>\n    </tr>\n    <tr>\n      <th>1459</th>\n      <td>20</td>\n      <td>75.0</td>\n      <td>9937</td>\n      <td>5</td>\n      <td>6</td>\n      <td>1965</td>\n      <td>1965</td>\n      <td>136</td>\n      <td>1256</td>\n      <td>0</td>\n      <td>...</td>\n      <td>6</td>\n      <td>0</td>\n      <td>1965.0</td>\n      <td>1</td>\n      <td>276</td>\n      <td>736</td>\n      <td>68</td>\n      <td>6</td>\n      <td>2008</td>\n      <td>147500</td>\n    </tr>\n  </tbody>\n</table>\n<p>1460 rows × 25 columns</p>\n</div>"
     },
     "execution_count": 137,
     "metadata": {},
     "output_type": "execute_result"
    }
   ],
   "source": [
    "df2"
   ],
   "metadata": {
    "collapsed": false,
    "ExecuteTime": {
     "end_time": "2025-07-26T17:58:40.846652600Z",
     "start_time": "2025-07-26T17:58:40.686589700Z"
    }
   },
   "id": "5e48df8adc0843e",
   "execution_count": 137
  },
  {
   "cell_type": "markdown",
   "source": [
    "## Data Cleaning"
   ],
   "metadata": {
    "collapsed": false
   },
   "id": "39af98c4ca48091e"
  },
  {
   "cell_type": "markdown",
   "source": [
    "### Check null values"
   ],
   "metadata": {
    "collapsed": false
   },
   "id": "c3422441d198d571"
  },
  {
   "cell_type": "code",
   "outputs": [
    {
     "data": {
      "text/plain": "MSSubClass        0\nLotFrontage     259\nLotArea           0\nOverallQual       0\nOverallCond       0\nYearBuilt         0\nYearRemodAdd      0\nBsmtUnfSF         0\nTotalBsmtSF       0\n2ndFlrSF          0\nGrLivArea         0\nBsmtFullBath      0\nFullBath          0\nHalfBath          0\nBedroomAbvGr      0\nTotRmsAbvGrd      0\nFireplaces        0\nGarageYrBlt      81\nGarageCars        0\nGarageArea        0\nWoodDeckSF        0\nOpenPorchSF       0\nMoSold            0\nYrSold            0\nSalePrice         0\ndtype: int64"
     },
     "execution_count": 138,
     "metadata": {},
     "output_type": "execute_result"
    }
   ],
   "source": [
    "df2.isna().sum()"
   ],
   "metadata": {
    "collapsed": false,
    "ExecuteTime": {
     "end_time": "2025-07-26T17:58:40.893507200Z",
     "start_time": "2025-07-26T17:58:40.795388800Z"
    }
   },
   "id": "b74779c4ece0da3b",
   "execution_count": 138
  },
  {
   "cell_type": "markdown",
   "source": [
    "### Check outliers in numerical feature"
   ],
   "metadata": {
    "collapsed": false
   },
   "id": "f421cd985d7a48e8"
  },
  {
   "cell_type": "code",
   "outputs": [
    {
     "data": {
      "text/plain": "<Axes: >"
     },
     "execution_count": 139,
     "metadata": {},
     "output_type": "execute_result"
    },
    {
     "data": {
      "text/plain": "<Figure size 640x480 with 1 Axes>",
      "image/png": "[encoded data removed]"
     },
     "metadata": {},
     "output_type": "display_data"
    }
   ],
   "source": [
    "sns.boxplot(df2['LotFrontage'])"
   ],
   "metadata": {
    "collapsed": false,
    "ExecuteTime": {
     "end_time": "2025-07-26T17:58:41.248706600Z",
     "start_time": "2025-07-26T17:58:40.882485300Z"
    }
   },
   "id": "2047fddc793c0815",
   "execution_count": 139
  },
  {
   "cell_type": "markdown",
   "source": [
    "### Remove Ouliers"
   ],
   "metadata": {
    "collapsed": false
   },
   "id": "b1bc49c01e529eaf"
  },
  {
   "cell_type": "code",
   "outputs": [],
   "source": [
    "Q1 = df2['LotFrontage'].quantile(0.25)\n",
    "Q3 = df2['LotFrontage'].quantile(0.75)\n",
    "IQR = Q3 - Q1\n",
    "\n",
    "lower_bound = Q1 - 1.5 * IQR\n",
    "upper_bound = Q3 + 1.5 * IQR\n",
    "\n",
    "df_clean = df2[(df2['LotFrontage'] >= lower_bound) & (df2['LotFrontage'] <= upper_bound)]"
   ],
   "metadata": {
    "collapsed": false,
    "ExecuteTime": {
     "end_time": "2025-07-26T17:58:41.250932Z",
     "start_time": "2025-07-26T17:58:41.111148800Z"
    }
   },
   "id": "868db6e1a3a425d",
   "execution_count": 140
  },
  {
   "cell_type": "markdown",
   "source": [
    "### Replace null values with mean"
   ],
   "metadata": {
    "collapsed": false
   },
   "id": "e5073b7e28564ef9"
  },
  {
   "cell_type": "code",
   "outputs": [],
   "source": [
    "df2['LotFrontage']=df2[\"LotFrontage\"].fillna(df2['LotFrontage'].mean())"
   ],
   "metadata": {
    "collapsed": false,
    "ExecuteTime": {
     "end_time": "2025-07-26T17:58:41.279689300Z",
     "start_time": "2025-07-26T17:58:41.137944400Z"
    }
   },
   "id": "f120cd07055423a8",
   "execution_count": 141
  },
  {
   "cell_type": "code",
   "outputs": [
    {
     "data": {
      "text/plain": "MSSubClass       0\nLotFrontage      0\nLotArea          0\nOverallQual      0\nOverallCond      0\nYearBuilt        0\nYearRemodAdd     0\nBsmtUnfSF        0\nTotalBsmtSF      0\n2ndFlrSF         0\nGrLivArea        0\nBsmtFullBath     0\nFullBath         0\nHalfBath         0\nBedroomAbvGr     0\nTotRmsAbvGrd     0\nFireplaces       0\nGarageYrBlt     81\nGarageCars       0\nGarageArea       0\nWoodDeckSF       0\nOpenPorchSF      0\nMoSold           0\nYrSold           0\nSalePrice        0\ndtype: int64"
     },
     "execution_count": 142,
     "metadata": {},
     "output_type": "execute_result"
    }
   ],
   "source": [
    "df2.isna().sum()"
   ],
   "metadata": {
    "collapsed": false,
    "ExecuteTime": {
     "end_time": "2025-07-26T17:58:41.414982500Z",
     "start_time": "2025-07-26T17:58:41.210085700Z"
    }
   },
   "id": "7276910308d54bcc",
   "execution_count": 142
  },
  {
   "cell_type": "markdown",
   "source": [
    "### Drop the rest rows that contain null values"
   ],
   "metadata": {
    "collapsed": false
   },
   "id": "8f5265723fd8b75a"
  },
  {
   "cell_type": "code",
   "outputs": [],
   "source": [
    "df2=df2.fillna(df2['GarageYrBlt'].mode()[0])"
   ],
   "metadata": {
    "collapsed": false,
    "ExecuteTime": {
     "end_time": "2025-07-26T17:58:41.451405Z",
     "start_time": "2025-07-26T17:58:41.291290200Z"
    }
   },
   "id": "c96e2cb43af7a0ad",
   "execution_count": 143
  },
  {
   "cell_type": "code",
   "outputs": [
    {
     "data": {
      "text/plain": "MSSubClass      0\nLotFrontage     0\nLotArea         0\nOverallQual     0\nOverallCond     0\nYearBuilt       0\nYearRemodAdd    0\nBsmtUnfSF       0\nTotalBsmtSF     0\n2ndFlrSF        0\nGrLivArea       0\nBsmtFullBath    0\nFullBath        0\nHalfBath        0\nBedroomAbvGr    0\nTotRmsAbvGrd    0\nFireplaces      0\nGarageYrBlt     0\nGarageCars      0\nGarageArea      0\nWoodDeckSF      0\nOpenPorchSF     0\nMoSold          0\nYrSold          0\nSalePrice       0\ndtype: int64"
     },
     "execution_count": 144,
     "metadata": {},
     "output_type": "execute_result"
    }
   ],
   "source": [
    "df2.isna().sum()"
   ],
   "metadata": {
    "collapsed": false,
    "ExecuteTime": {
     "end_time": "2025-07-26T17:58:41.560184500Z",
     "start_time": "2025-07-26T17:58:41.458519800Z"
    }
   },
   "id": "cfd7cb52afd5cf3d",
   "execution_count": 144
  },
  {
   "cell_type": "markdown",
   "source": [
    "## Regression"
   ],
   "metadata": {
    "collapsed": false
   },
   "id": "1aa489d07e143445"
  },
  {
   "cell_type": "markdown",
   "source": [
    "### Split the training and the taarget data"
   ],
   "metadata": {
    "collapsed": false
   },
   "id": "9afc3854776a68de"
  },
  {
   "cell_type": "code",
   "outputs": [
    {
     "data": {
      "text/plain": "Index(['MSSubClass', 'LotFrontage', 'LotArea', 'OverallQual', 'OverallCond',\n       'YearBuilt', 'YearRemodAdd', 'BsmtUnfSF', 'TotalBsmtSF', '2ndFlrSF',\n       'GrLivArea', 'BsmtFullBath', 'FullBath', 'HalfBath', 'BedroomAbvGr',\n       'TotRmsAbvGrd', 'Fireplaces', 'GarageYrBlt', 'GarageCars', 'GarageArea',\n       'WoodDeckSF', 'OpenPorchSF', 'MoSold', 'YrSold', 'SalePrice'],\n      dtype='object')"
     },
     "execution_count": 145,
     "metadata": {},
     "output_type": "execute_result"
    }
   ],
   "source": [
    "df2.columns"
   ],
   "metadata": {
    "collapsed": false,
    "ExecuteTime": {
     "end_time": "2025-07-26T17:58:41.614914200Z",
     "start_time": "2025-07-26T17:58:41.541452300Z"
    }
   },
   "id": "47fad33b5bce7b3a",
   "execution_count": 145
  },
  {
   "cell_type": "code",
   "outputs": [],
   "source": [
    "X = df2.drop('SalePrice',axis =1)\n",
    "y = df2['SalePrice']"
   ],
   "metadata": {
    "collapsed": false,
    "ExecuteTime": {
     "end_time": "2025-07-26T17:58:41.811110Z",
     "start_time": "2025-07-26T17:58:41.598437600Z"
    }
   },
   "id": "2fba5fc9e2f3f770",
   "execution_count": 146
  },
  {
   "cell_type": "markdown",
   "source": [
    "### Creating Linear Regression object and fitting it"
   ],
   "metadata": {
    "collapsed": false
   },
   "id": "262627f5b00272dc"
  },
  {
   "cell_type": "code",
   "outputs": [],
   "source": [
    "from sklearn.model_selection import train_test_split\n",
    "\n",
    "reg = linear_model.LinearRegression()\n",
    "X_train, X_test, y_train, y_test = train_test_split(X, y, test_size=0.2, random_state=42)"
   ],
   "metadata": {
    "collapsed": false,
    "ExecuteTime": {
     "end_time": "2025-07-26T17:58:41.883081700Z",
     "start_time": "2025-07-26T17:58:41.791837300Z"
    }
   },
   "id": "5c574d0b7c99dde1",
   "execution_count": 147
  },
  {
   "cell_type": "code",
   "outputs": [
    {
     "data": {
      "text/plain": "LinearRegression()",
      "text/html": "<style>#sk-container-id-4 {color: black;}#sk-container-id-4 pre{padding: 0;}#sk-container-id-4 div.sk-toggleable {background-color: white;}#sk-container-id-4 label.sk-toggleable__label {cursor: pointer;display: block;width: 100%;margin-bottom: 0;padding: 0.3em;box-sizing: border-box;text-align: center;}#sk-container-id-4 label.sk-toggleable__label-arrow:before {content: \"▸\";float: left;margin-right: 0.25em;color: #696969;}#sk-container-id-4 label.sk-toggleable__label-arrow:hover:before {color: black;}#sk-container-id-4 div.sk-estimator:hover label.sk-toggleable__label-arrow:before {color: black;}#sk-container-id-4 div.sk-toggleable__content {max-height: 0;max-width: 0;overflow: hidden;text-align: left;background-color: #f0f8ff;}#sk-container-id-4 div.sk-toggleable__content pre {margin: 0.2em;color: black;border-radius: 0.25em;background-color: #f0f8ff;}#sk-container-id-4 input.sk-toggleable__control:checked~div.sk-toggleable__content {max-height: 200px;max-width: 100%;overflow: auto;}#sk-container-id-4 input.sk-toggleable__control:checked~label.sk-toggleable__label-arrow:before {content: \"▾\";}#sk-container-id-4 div.sk-estimator input.sk-toggleable__control:checked~label.sk-toggleable__label {background-color: #d4ebff;}#sk-container-id-4 div.sk-label input.sk-toggleable__control:checked~label.sk-toggleable__label {background-color: #d4ebff;}#sk-container-id-4 input.sk-hidden--visually {border: 0;clip: rect(1px 1px 1px 1px);clip: rect(1px, 1px, 1px, 1px);height: 1px;margin: -1px;overflow: hidden;padding: 0;position: absolute;width: 1px;}#sk-container-id-4 div.sk-estimator {font-family: monospace;background-color: #f0f8ff;border: 1px dotted black;border-radius: 0.25em;box-sizing: border-box;margin-bottom: 0.5em;}#sk-container-id-4 div.sk-estimator:hover {background-color: #d4ebff;}#sk-container-id-4 div.sk-parallel-item::after {content: \"\";width: 100%;border-bottom: 1px solid gray;flex-grow: 1;}#sk-container-id-4 div.sk-label:hover label.sk-toggleable__label {background-color: #d4ebff;}#sk-container-id-4 div.sk-serial::before {content: \"\";position: absolute;border-left: 1px solid gray;box-sizing: border-box;top: 0;bottom: 0;left: 50%;z-index: 0;}#sk-container-id-4 div.sk-serial {display: flex;flex-direction: column;align-items: center;background-color: white;padding-right: 0.2em;padding-left: 0.2em;position: relative;}#sk-container-id-4 div.sk-item {position: relative;z-index: 1;}#sk-container-id-4 div.sk-parallel {display: flex;align-items: stretch;justify-content: center;background-color: white;position: relative;}#sk-container-id-4 div.sk-item::before, #sk-container-id-4 div.sk-parallel-item::before {content: \"\";position: absolute;border-left: 1px solid gray;box-sizing: border-box;top: 0;bottom: 0;left: 50%;z-index: -1;}#sk-container-id-4 div.sk-parallel-item {display: flex;flex-direction: column;z-index: 1;position: relative;background-color: white;}#sk-container-id-4 div.sk-parallel-item:first-child::after {align-self: flex-end;width: 50%;}#sk-container-id-4 div.sk-parallel-item:last-child::after {align-self: flex-start;width: 50%;}#sk-container-id-4 div.sk-parallel-item:only-child::after {width: 0;}#sk-container-id-4 div.sk-dashed-wrapped {border: 1px dashed gray;margin: 0 0.4em 0.5em 0.4em;box-sizing: border-box;padding-bottom: 0.4em;background-color: white;}#sk-container-id-4 div.sk-label label {font-family: monospace;font-weight: bold;display: inline-block;line-height: 1.2em;}#sk-container-id-4 div.sk-label-container {text-align: center;}#sk-container-id-4 div.sk-container {/* jupyter's `normalize.less` sets `[hidden] { display: none; }` but bootstrap.min.css set `[hidden] { display: none !important; }` so we also need the `!important` here to be able to override the default hidden behavior on the sphinx rendered scikit-learn.org. See: https://github.com/scikit-learn/scikit-learn/issues/21755 */display: inline-block !important;position: relative;}#sk-container-id-4 div.sk-text-repr-fallback {display: none;}</style><div id=\"sk-container-id-4\" class=\"sk-top-container\"><div class=\"sk-text-repr-fallback\"><pre>LinearRegression()</pre><b>In a Jupyter environment, please rerun this cell to show the HTML representation or trust the notebook. <br />On GitHub, the HTML representation is unable to render, please try loading this page with nbviewer.org.</b></div><div class=\"sk-container\" hidden><div class=\"sk-item\"><div class=\"sk-estimator sk-toggleable\"><input class=\"sk-toggleable__control sk-hidden--visually\" id=\"sk-estimator-id-4\" type=\"checkbox\" checked><label for=\"sk-estimator-id-4\" class=\"sk-toggleable__label sk-toggleable__label-arrow\">LinearRegression</label><div class=\"sk-toggleable__content\"><pre>LinearRegression()</pre></div></div></div></div></div>"
     },
     "execution_count": 148,
     "metadata": {},
     "output_type": "execute_result"
    }
   ],
   "source": [
    "reg.fit(X_train,y_train)"
   ],
   "metadata": {
    "collapsed": false,
    "ExecuteTime": {
     "end_time": "2025-07-26T17:58:41.912438400Z",
     "start_time": "2025-07-26T17:58:41.846950700Z"
    }
   },
   "id": "f21f12924e8ed27b",
   "execution_count": 148
  },
  {
   "cell_type": "code",
   "outputs": [
    {
     "data": {
      "text/plain": "array([154192.72748145, 309537.51281285, 114409.43455484, 185910.29703962,\n       302586.2536036 ,  56320.83939778, 230323.17840005, 151056.25552412,\n        54403.73393624, 133261.54482521, 157172.97121883, 115940.35434734,\n        78410.81226036, 211868.93930511, 192380.01548374, 138936.23730527,\n       217211.83699093, 134626.64153911, 115624.027973  , 231474.82446575,\n       187402.41750936, 216263.60625292, 191918.67399294, 122198.78399659,\n       214272.70966497, 150528.2332932 , 200562.01052273,  77558.29696993,\n       182055.78499654, 187926.07744063, 118299.90781293, 269877.38888693,\n       235005.38996182,  88415.04389532, 268294.16624831, 162225.54964394,\n       152185.49331043, 222120.70709227, 312606.23745605,  86779.30727833,\n       144545.58476878, 255025.37408532, 110557.08834271, 277889.36703269,\n       129103.42951116, 125400.23558367, 111102.92470732, 130418.85079647,\n       356674.56177451, 125332.26368928, 109437.08142644, 221628.02162183,\n        90618.04237927, 338147.6790328 , 160848.26186842, 249897.42923237,\n       227836.13627331, 151044.73931411, 155410.30052336, 111226.63030436,\n        50754.89994014, 149055.94648849, 286168.50717025, 261507.82438028,\n       276698.64258536, 216889.79751823,  95362.33952731, 307096.98229138,\n       106284.74967463, 163337.24362375, 129005.31264256, 125353.58895765,\n        78091.35571368,  57092.50089131, 374204.01075198, 184466.80537339,\n       297314.81565469, 286895.99030909, 130974.64056438, 115926.88146406,\n       122554.43831667,  78092.14864412, 112165.07751732,  97969.78089957,\n       169640.00839238, 105232.10298699, 265302.80494577, 201219.38142017,\n       162499.38468718, 205338.97474518, 156349.04103667, 146655.65341618,\n       124310.25991014, 278082.55032208, 106975.98181674, 188040.06310801,\n       177039.17819873, 183374.73585551, 217216.14270015, 263330.5332877 ,\n       190821.7566117 , 229504.65184576, 285713.70907876, 159658.49171144,\n       178025.65776397, 180006.61822861, 175803.41890444, 237280.33566044,\n       138080.72266819, 182761.55340755,  22103.09271206, 108526.17467323,\n       136705.90174601, 118494.35489255, 218501.07797802, 121414.46864074,\n        88768.23720285, 118489.5692879 , 166032.8422127 , 288832.30781163,\n       156994.03053857, 157624.12521704, 189052.16660432, 171558.44231068,\n       191932.94525875, 125666.73398239, 240496.78206413,  95443.3795145 ,\n       135562.50014048, 193481.01604606, 200402.42261065, 320745.47161173,\n       205246.2117904 , 135591.03518157,  24004.40153811, 322359.18350274,\n       296155.58784765, 128207.37615069, 245881.1480709 , 451406.65455628,\n       300032.02065253, 119273.51037748, 185115.2257005 , 158489.56647218,\n       106246.73721749, 111445.07069326, 192601.62435596, 203193.40095367,\n       112339.108949  ,  43626.16468611,  78770.09284165, 156076.70338708,\n       259567.8286284 , 175505.98359196,  50058.52794039, 123536.95637665,\n       153295.15552049, 161781.29497388,  76141.36693135, 139670.98647839,\n       215972.25754986, 182327.67847202, 286762.69131568, 141593.51059456,\n       109794.26367528, 110533.41877744, 228153.79097324, 304181.58712558,\n       344190.39567721, 225667.87567907, 332162.63933889,  77755.69758501,\n       101223.61457773, 174589.69759973, 293894.53134326, 116274.87247595,\n       135439.84025317, 227281.05506627, 119450.50826911, 147186.66870272,\n       145593.40957325, 108186.40397496, 115261.90140709, 168736.35641541,\n       266872.53222062, 188524.90139775, 289584.18163262, 235946.34494621,\n       196910.5468569 ,  62819.29017227, 136138.22363368,  98142.34282423,\n       136547.00188828, 152573.51286533, 198175.44358173, 191150.96151155,\n       224755.14239888,  63029.08860187, 225110.66762418, 109298.07809673,\n       257327.22747958, 209048.67352814, 112676.21584097, 304600.97948776,\n       213925.08507164, 100793.98343879, 250915.57788052, 137397.15885454,\n       164383.47863734,  97057.87795214, 254533.54523064, 165989.98509626,\n       106583.58314048, 152445.96220231, 238609.50187039, 255220.42164968,\n       208247.02457069, 128106.88343118, 103576.6235881 , 137472.0971222 ,\n       139813.22389532, 231771.48629859, 199529.06068779,  89379.0941302 ,\n       243092.63468676, 150982.72808574,  89191.50376493,  62115.17150628,\n       173739.85006841,  89139.50800573,  89938.7712919 , 181521.28690493,\n       135574.50996435, 108953.83879071, 260224.8394719 , 141688.9859808 ,\n       218412.04089506, 164243.07640015, 247920.96851363, 126625.80455639,\n       139570.34854538, 259852.76954115, 222854.70209129, 368836.3646799 ,\n       188667.19504858,  91913.12469951, 133519.93943811, 200500.3240194 ,\n       141703.17484214,  91723.93175029, 183473.47878147, 191705.87079907,\n       134834.92519335,  68336.14822268, 138575.03005148, 134742.15308616,\n       123067.38518954, 108439.40823119, 178592.10956944, 270978.93319623,\n       285070.86480814, 186880.31665847, 130314.58096094, 228469.35715385,\n       269826.02739189, 223670.56388281, 181273.20530104, 153440.15909723,\n       107973.58551527, 194792.83234519, 348237.9302205 , 219833.02087917,\n       234664.26679958,  71291.62385087,  95586.74786149, 138057.13127638,\n       191795.48355881, 260247.0446826 , 215299.12906111, 144852.6661552 ,\n       222627.55908942,  78252.09239384, 197413.08596291, 101830.61406147,\n       286684.27393772, 184950.85203629, 224380.19772366, 127433.91750105,\n       239216.30970981, 219098.1776762 , 100871.09210172, 103827.0695903 ])"
     },
     "execution_count": 149,
     "metadata": {},
     "output_type": "execute_result"
    }
   ],
   "source": [
    "pred = reg.predict(X_test)\n",
    "pred"
   ],
   "metadata": {
    "collapsed": false,
    "ExecuteTime": {
     "end_time": "2025-07-26T17:58:42.002265600Z",
     "start_time": "2025-07-26T17:58:41.928538400Z"
    }
   },
   "id": "d37ff6c35f1c0504",
   "execution_count": 149
  },
  {
   "cell_type": "markdown",
   "source": [
    "### Calculating model metrics"
   ],
   "metadata": {
    "collapsed": false
   },
   "id": "a2009b4f1456aae8"
  },
  {
   "cell_type": "code",
   "outputs": [
    {
     "data": {
      "text/plain": "0.8129550996909459"
     },
     "execution_count": 150,
     "metadata": {},
     "output_type": "execute_result"
    }
   ],
   "source": [
    "reg.score(X_test,y_test)"
   ],
   "metadata": {
    "collapsed": false,
    "ExecuteTime": {
     "end_time": "2025-07-26T17:58:42.112134500Z",
     "start_time": "2025-07-26T17:58:41.960836300Z"
    }
   },
   "id": "e9c0835acfcc376d",
   "execution_count": 150
  },
  {
   "cell_type": "code",
   "outputs": [
    {
     "data": {
      "text/plain": "37877.37320302506"
     },
     "execution_count": 151,
     "metadata": {},
     "output_type": "execute_result"
    }
   ],
   "source": [
    "np.sqrt(sklearn.metrics.mean_squared_error(y_test,pred))"
   ],
   "metadata": {
    "collapsed": false,
    "ExecuteTime": {
     "end_time": "2025-07-26T17:58:42.148133900Z",
     "start_time": "2025-07-26T17:58:42.033856Z"
    }
   },
   "id": "5542650199de6701",
   "execution_count": 151
  },
  {
   "cell_type": "markdown",
   "source": [
    "### Visualizing R2 score"
   ],
   "metadata": {
    "collapsed": false
   },
   "id": "839586348b0f301b"
  },
  {
   "cell_type": "code",
   "outputs": [
    {
     "ename": "AttributeError",
     "evalue": "'Series' object has no attribute 'reshape'",
     "output_type": "error",
     "traceback": [
      "\u001B[1;31m---------------------------------------------------------------------------\u001B[0m",
      "\u001B[1;31mAttributeError\u001B[0m                            Traceback (most recent call last)",
      "\u001B[1;32m~\\AppData\\Local\\Temp\\ipykernel_13568\\503778193.py\u001B[0m in \u001B[0;36m?\u001B[1;34m()\u001B[0m\n\u001B[1;32m----> 7\u001B[1;33m \u001B[0mfig\u001B[0m\u001B[1;33m,\u001B[0m \u001B[0max\u001B[0m \u001B[1;33m=\u001B[0m \u001B[0mplt\u001B[0m\u001B[1;33m.\u001B[0m\u001B[0msubplots\u001B[0m\u001B[1;33m(\u001B[0m\u001B[1;33m)\u001B[0m\u001B[1;33m\u001B[0m\u001B[1;33m\u001B[0m\u001B[0m\n\u001B[0m\u001B[0;32m      8\u001B[0m \u001B[0max\u001B[0m\u001B[1;33m.\u001B[0m\u001B[0mscatter\u001B[0m\u001B[1;33m(\u001B[0m\u001B[0my_test\u001B[0m\u001B[1;33m,\u001B[0m \u001B[0mpred\u001B[0m\u001B[1;33m)\u001B[0m\u001B[1;33m\u001B[0m\u001B[1;33m\u001B[0m\u001B[0m\n\u001B[0;32m      9\u001B[0m \u001B[0max\u001B[0m\u001B[1;33m.\u001B[0m\u001B[0mplot\u001B[0m\u001B[1;33m(\u001B[0m\u001B[1;33m[\u001B[0m\u001B[0my\u001B[0m\u001B[1;33m.\u001B[0m\u001B[0mmin\u001B[0m\u001B[1;33m(\u001B[0m\u001B[1;33m)\u001B[0m\u001B[1;33m,\u001B[0m \u001B[0my\u001B[0m\u001B[1;33m.\u001B[0m\u001B[0mmax\u001B[0m\u001B[1;33m(\u001B[0m\u001B[1;33m)\u001B[0m\u001B[1;33m]\u001B[0m\u001B[1;33m,\u001B[0m \u001B[1;33m[\u001B[0m\u001B[0my\u001B[0m\u001B[1;33m.\u001B[0m\u001B[0mmin\u001B[0m\u001B[1;33m(\u001B[0m\u001B[1;33m)\u001B[0m\u001B[1;33m,\u001B[0m \u001B[0my\u001B[0m\u001B[1;33m.\u001B[0m\u001B[0mmax\u001B[0m\u001B[1;33m(\u001B[0m\u001B[1;33m)\u001B[0m\u001B[1;33m]\u001B[0m\u001B[1;33m,\u001B[0m \u001B[1;34m'k--'\u001B[0m\u001B[1;33m,\u001B[0m \u001B[0mlw\u001B[0m\u001B[1;33m=\u001B[0m\u001B[1;36m4\u001B[0m\u001B[1;33m)\u001B[0m\u001B[1;33m\u001B[0m\u001B[1;33m\u001B[0m\u001B[0m\n\u001B[0;32m     10\u001B[0m \u001B[0max\u001B[0m\u001B[1;33m.\u001B[0m\u001B[0mset_xlabel\u001B[0m\u001B[1;33m(\u001B[0m\u001B[1;34m'Actual'\u001B[0m\u001B[1;33m)\u001B[0m\u001B[1;33m\u001B[0m\u001B[1;33m\u001B[0m\u001B[0m\n",
      "\u001B[1;32m~\\miniconda3\\lib\\site-packages\\pandas\\core\\generic.py\u001B[0m in \u001B[0;36m?\u001B[1;34m(self, name)\u001B[0m\n\u001B[0;32m   6292\u001B[0m             \u001B[1;32mand\u001B[0m \u001B[0mname\u001B[0m \u001B[1;32mnot\u001B[0m \u001B[1;32min\u001B[0m \u001B[0mself\u001B[0m\u001B[1;33m.\u001B[0m\u001B[0m_accessors\u001B[0m\u001B[1;33m\u001B[0m\u001B[1;33m\u001B[0m\u001B[0m\n\u001B[0;32m   6293\u001B[0m             \u001B[1;32mand\u001B[0m \u001B[0mself\u001B[0m\u001B[1;33m.\u001B[0m\u001B[0m_info_axis\u001B[0m\u001B[1;33m.\u001B[0m\u001B[0m_can_hold_identifiers_and_holds_name\u001B[0m\u001B[1;33m(\u001B[0m\u001B[0mname\u001B[0m\u001B[1;33m)\u001B[0m\u001B[1;33m\u001B[0m\u001B[1;33m\u001B[0m\u001B[0m\n\u001B[0;32m   6294\u001B[0m         ):\n\u001B[0;32m   6295\u001B[0m             \u001B[1;32mreturn\u001B[0m \u001B[0mself\u001B[0m\u001B[1;33m[\u001B[0m\u001B[0mname\u001B[0m\u001B[1;33m]\u001B[0m\u001B[1;33m\u001B[0m\u001B[1;33m\u001B[0m\u001B[0m\n\u001B[1;32m-> 6296\u001B[1;33m         \u001B[1;32mreturn\u001B[0m \u001B[0mobject\u001B[0m\u001B[1;33m.\u001B[0m\u001B[0m__getattribute__\u001B[0m\u001B[1;33m(\u001B[0m\u001B[0mself\u001B[0m\u001B[1;33m,\u001B[0m \u001B[0mname\u001B[0m\u001B[1;33m)\u001B[0m\u001B[1;33m\u001B[0m\u001B[1;33m\u001B[0m\u001B[0m\n\u001B[0m",
      "\u001B[1;31mAttributeError\u001B[0m: 'Series' object has no attribute 'reshape'"
     ]
    },
    {
     "data": {
      "text/plain": "<Figure size 640x480 with 1 Axes>",
      "image/png": "[encoded data removed]"
     },
     "metadata": {},
     "output_type": "display_data"
    }
   ],
   "source": [
    "fig, ax = plt.subplots()\n",
    "ax.scatter(y_test, pred)\n",
    "ax.plot([y.min(), y.max()], [y.min(), y.max()], 'k--', lw=4)\n",
    "ax.set_xlabel('Actual')\n",
    "ax.set_ylabel('Predicted')\n",
    "y_test, y_predicted = y_test.reshape(-1,1), pred.reshape(-1,1)\n",
    "ax.plot(y_test, reg().fit(y_test, pred).predict(y_test))\n",
    "\n",
    "plt.show()"
   ],
   "metadata": {
    "collapsed": false,
    "ExecuteTime": {
     "end_time": "2025-07-26T17:58:42.596460600Z",
     "start_time": "2025-07-26T17:58:42.130100Z"
    }
   },
   "id": "d097c8eb1ffc338",
   "execution_count": 152
  }
 ],
 "metadata": {
  "kernelspec": {
   "display_name": "Python 3",
   "language": "python",
   "name": "python3"
  },
  "language_info": {
   "codemirror_mode": {
    "name": "ipython",
    "version": 2
   },
   "file_extension": ".py",
   "mimetype": "text/x-python",
   "name": "python",
   "nbconvert_exporter": "python",
   "pygments_lexer": "ipython2",
   "version": "2.7.6"
  }
 },
 "nbformat": 4,
 "nbformat_minor": 5
}
